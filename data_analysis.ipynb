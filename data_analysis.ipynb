{
 "cells": [
  {
   "cell_type": "code",
   "execution_count": null,
   "outputs": [],
   "source": [
    "import os\n",
    "import cv2\n",
    "import numpy as np\n",
    "import pandas as pd\n",
    "import matplotlib.pyplot as plt\n",
    "from matplotlib.colors import ListedColormap"
   ],
   "metadata": {
    "collapsed": false
   },
   "id": "b5ea7833553bacfa"
  },
  {
   "cell_type": "code",
   "execution_count": null,
   "outputs": [],
   "source": [
    "def rle_decode(mask_rle, shape=(768, 768)):\n",
    "    s = mask_rle.split()\n",
    "    starts, lengths = [np.asarray(x, dtype=int) for x in (s[0:][::2], s[1:][::2])]\n",
    "    starts -= 1\n",
    "    ends = starts + lengths\n",
    "    img = np.zeros(shape[0]*shape[1], dtype=np.uint8)\n",
    "    for lo, hi in zip(starts, ends):\n",
    "        img[lo:hi] = 1\n",
    "    return img.reshape(shape).T"
   ],
   "metadata": {
    "collapsed": false
   },
   "id": "28c958271ba7264f"
  },
  {
   "cell_type": "code",
   "execution_count": null,
   "outputs": [],
   "source": [
    "bboxes = pd.read_csv('train_ship_segmentations_v2.csv')"
   ],
   "metadata": {
    "collapsed": false,
    "is_executing": true
   },
   "id": "initial_id"
  },
  {
   "cell_type": "code",
   "execution_count": null,
   "outputs": [],
   "source": [
    "# Display the distribution of NaN values in 'EncodedPixels'\n",
    "nan_counts = bboxes['EncodedPixels'].isna().sum()\n",
    "total_images = len(bboxes)\n",
    "\n",
    "print(f\"Number of images with no segmentation mask: {nan_counts}\")\n",
    "print(f\"Total number of images: {total_images}\")\n",
    "print(f\"Percentage of images without segmentation mask: {nan_counts / total_images * 100:.2f}%\")\n"
   ],
   "metadata": {
    "collapsed": false
   },
   "id": "9898f1bf3e6afee"
  },
  {
   "cell_type": "code",
   "execution_count": null,
   "outputs": [],
   "source": [
    "# Display the distribution of images with multiple segmentation masks\n",
    "image_counts = bboxes['ImageId'].value_counts()\n",
    "multi_mask_images = image_counts[image_counts > 1]\n",
    "\n",
    "print(f\"Number of images with multiple segmentation masks: {len(multi_mask_images)}\")\n",
    "print(f\"Percentage of images with multiple segmentation masks: {len(multi_mask_images) / total_images * 100:.2f}%\")\n"
   ],
   "metadata": {
    "collapsed": false
   },
   "id": "58e5350c9c8b452"
  },
  {
   "cell_type": "code",
   "execution_count": null,
   "outputs": [],
   "source": [
    "# Display a few examples of images with multiple segmentation masks\n",
    "sample_multi_mask_images = multi_mask_images.head(3).index\n",
    "\n",
    "for ImageId in sample_multi_mask_images:\n",
    "    img_masks = bboxes.loc[bboxes['ImageId'] == ImageId, 'EncodedPixels'].tolist()\n",
    "\n",
    "    # Display the original image\n",
    "    img_path = os.path.join(data_dir, ImageId)\n",
    "    img = cv2.imread(img_path)\n",
    "    img = cv2.cvtColor(img, cv2.COLOR_BGR2RGB)\n",
    "    plt.figure(figsize=(10, 5))\n",
    "    plt.subplot(1, 2, 1)\n",
    "    plt.imshow(img)\n",
    "    plt.title('Original Image')\n",
    "\n",
    "    # Display the segmentation masks\n",
    "    plt.subplot(1, 2, 2)\n",
    "    for i, mask in enumerate(img_masks):\n",
    "        if pd.notna(mask) and (len(mask) != 0):\n",
    "            decoded_mask = rle_decode(mask)\n",
    "            plt.imshow(decoded_mask, cmap=ListedColormap(['black', 'white']), alpha=0.3, label=f'Mask {i + 1}')\n",
    "    \n",
    "    plt.title('Segmentation Masks')\n",
    "    plt.legend()\n",
    "    plt.show()"
   ],
   "metadata": {
    "collapsed": false
   },
   "id": "64d561b9484615f"
  }
 ],
 "metadata": {
  "kernelspec": {
   "display_name": "Python 3",
   "language": "python",
   "name": "python3"
  },
  "language_info": {
   "codemirror_mode": {
    "name": "ipython",
    "version": 2
   },
   "file_extension": ".py",
   "mimetype": "text/x-python",
   "name": "python",
   "nbconvert_exporter": "python",
   "pygments_lexer": "ipython2",
   "version": "2.7.6"
  }
 },
 "nbformat": 4,
 "nbformat_minor": 5
}
